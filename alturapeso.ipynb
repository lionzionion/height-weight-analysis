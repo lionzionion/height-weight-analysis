{
  "cells": [
    {
      "cell_type": "code",
      "execution_count": 1,
      "metadata": {
        "id": "fFhFteHV695k"
      },
      "outputs": [],
      "source": [
        "import numpy as np"
      ]
    },
    {
      "cell_type": "markdown",
      "metadata": {
        "id": "YLWEzg3N695m"
      },
      "source": [
        "### 1) Alturas  \n",
        "i. No trecho de código abaixo, crie um ndarray chamado ```altura_em_centimetros``` transformando a lista ```lista_de_alturas``` em um ndarray do numpy com a função ```np.array()```  \n",
        "ii. Crie um outro objeto ```altura_em_metros```, com os valores de ```altura_em_centimetros``` convertidos para metros."
      ]
    },
    {
      "cell_type": "code",
      "execution_count": 2,
      "metadata": {
        "id": "tx6DbJk7695o",
        "colab": {
          "base_uri": "https://localhost:8080/"
        },
        "outputId": "0a520cd8-1b2e-4586-fd9d-db3fb6fa9435"
      },
      "outputs": [
        {
          "output_type": "execute_result",
          "data": {
            "text/plain": [
              "[170, 175, 180, 185]"
            ]
          },
          "metadata": {},
          "execution_count": 2
        }
      ],
      "source": [
        "lista_de_centimetros = list(range(170, 190, 5))\n",
        "lista_de_centimetros"
      ]
    },
    {
      "cell_type": "code",
      "execution_count": 4,
      "metadata": {
        "id": "-tXC4lyT695o"
      },
      "outputs": [],
      "source": [
        "altura_em_centimetros = np.array(lista_de_centimetros)"
      ]
    },
    {
      "cell_type": "code",
      "execution_count": 5,
      "metadata": {
        "id": "zFDQt9_K695p"
      },
      "outputs": [],
      "source": [
        "altura_em_metros = altura_em_centimetros / 100.0"
      ]
    },
    {
      "cell_type": "code",
      "source": [
        "print(\"Altura em centímetros:\", altura_em_centimetros)\n",
        "print(\"Altura em metros:\", altura_em_metros)"
      ],
      "metadata": {
        "colab": {
          "base_uri": "https://localhost:8080/"
        },
        "id": "NFZfutlJwygw",
        "outputId": "a8b507c6-2e31-4170-a33d-a9c4f739e4e3"
      },
      "execution_count": 6,
      "outputs": [
        {
          "output_type": "stream",
          "name": "stdout",
          "text": [
            "Altura em centímetros: [170 175 180 185]\n",
            "Altura em metros: [1.7  1.75 1.8  1.85]\n"
          ]
        }
      ]
    },
    {
      "cell_type": "markdown",
      "metadata": {
        "id": "hlsDzubv695p"
      },
      "source": [
        "### 2) IMC  \n",
        "i. Considere que pesos em Kg dessas pessoas, na mesma ortem, estão na lista pesos ```lista_pesos = [70, 75, 80, 85]```. Crie um **ndarray** chamado ```pesos``` com a função ```np.array()``` que contenha esses valores.  \n",
        "ii. Utilizando o objeto que contém as alturas em metros e esse objeto que contém os respectivos pesos em quilos, calcule o IMC desses indivíduos utilizando a aritmética de arrays e guarde os resultados em um objeto chamado ```imc```."
      ]
    },
    {
      "cell_type": "code",
      "execution_count": 8,
      "metadata": {
        "id": "WgZtY2Ox695q",
        "colab": {
          "base_uri": "https://localhost:8080/"
        },
        "outputId": "437b3b7b-601d-4b4e-bc11-7caca2340428"
      },
      "outputs": [
        {
          "output_type": "stream",
          "name": "stdout",
          "text": [
            "Altura em centímetros: [170 175 180 185]\n",
            "Altura em metros: [1.7  1.75 1.8  1.85]\n",
            "Pesos em kg: [70 75 80 85]\n",
            "IMC: [24.22 24.49 24.69 24.84]\n"
          ]
        }
      ],
      "source": [
        "# Lista de alturas em centímetros\n",
        "lista_de_centimetros = list(range(170, 190, 5))\n",
        "\n",
        "# Lista de pesos em kg\n",
        "lista_pesos = [70, 75, 80, 85]\n",
        "\n",
        "# i. Criar um ndarray chamado altura_em_centimetros\n",
        "altura_em_centimetros = np.array(lista_de_centimetros)\n",
        "\n",
        "# ii. Criar um objeto altura_em_metros\n",
        "altura_em_metros = altura_em_centimetros / 100.0\n",
        "\n",
        "# Criar um ndarray chamado pesos\n",
        "pesos = np.array(lista_pesos)\n",
        "\n",
        "# Calcular o IMC\n",
        "imc = pesos / altura_em_metros ** 2\n",
        "\n",
        "# Arredondar os resultados do IMC\n",
        "imc_arredondado = np.round(imc, 2)\n",
        "\n",
        "# Mostrar os resultados\n",
        "print(\"Altura em centímetros:\", altura_em_centimetros)\n",
        "print(\"Altura em metros:\", altura_em_metros)\n",
        "print(\"Pesos em kg:\", pesos)\n",
        "print(\"IMC:\", imc_arredondado)\n"
      ]
    },
    {
      "cell_type": "markdown",
      "metadata": {
        "id": "k1JIBxZb695r"
      },
      "source": [
        "### 3) Endividamento\n",
        "\n",
        "Cálculos de novas variáveis como endividamento total e comprometimento de renda são essenciais para a construção de modelos financeiros em ciência de dados. Áreas não financeiras terão cálculos semelhantes também. Vamos praticar:\n",
        "\n",
        "Considere que o seguinte ndarray contém os dados de 4 pessoas, total a ser pago a empréstimos mensalmente e renda familiar:\n",
        "\n",
        "| custo fixo | dívida financeira | renda familiar |\n",
        "|:----:|:----:|:---|\n",
        "| 3000  | 1000 | 6000 |\n",
        "| 2500  | 2500 | 5500 |\n",
        "| 1000  | 3000 | 7000 |\n",
        "| 10000 | 5000 | 16000 |\n",
        "\n",
        "i. Transforme a lista de listas ```dados_financeiros``` no ndarray ```nd_financeiros```.\n",
        "> ``` dados_financeiros[[3000, 2500, 1000, 10000],[1000, 2500, 3000, 5000],[6000, 5500, 7000, 16000]] ```\n",
        "\n",
        "ii. Utilize o método ```.transpose ``` e certifique-se de que esse ndarray tenha uma linha por indivíduo e uma coluna por informação. Utilizando a indexação do numpy, imprima no output a segunda linha do array, depois a segunda coluna.\n",
        "\n",
        "iii. Pratique aritmética com nearrays e calcule o endividamento total como:\n",
        "$$endividamento\\hspace{.2cm}total = \\frac{custo \\hspace{.2cm}fixo + dívida\\hspace{.2cm}financeira}{renda\\hspace{.2cm}familiar}$$\n",
        "Guarde os resultados em uma variável chamada ```endividamento_total``` e verifique os resultados imprimindo o conteúdo dessa variável no output.\n",
        "\n",
        "iv. Considere que há um erro de digitação que precisa ser corrigido: 3o indivíduo na verdade não possui renda familiar de R\\\\$7.000,00, mas sim R\\\\$ 10.000,00. Corrija esse valor e refaça os cálculos."
      ]
    },
    {
      "cell_type": "code",
      "source": [
        "# Lista de alturas em centímetros\n",
        "lista_de_centimetros = list(range(170, 190, 5))\n",
        "\n",
        "# Lista de pesos em kg\n",
        "lista_pesos = [70, 75, 80, 85]\n",
        "\n",
        "# i. Criar um ndarray chamado altura_em_centimetros\n",
        "altura_em_centimetros = np.array(lista_de_centimetros)\n",
        "\n",
        "# ii. Criar um objeto altura_em_metros\n",
        "altura_em_metros = altura_em_centimetros / 100.0\n",
        "\n",
        "# Criar um ndarray chamado pesos\n",
        "pesos = np.array(lista_pesos)\n",
        "\n",
        "# Calcular o IMC\n",
        "imc = pesos / altura_em_metros ** 2\n",
        "\n",
        "# Arredondar os resultados do IMC\n",
        "imc_arredondado = np.round(imc, 2)\n",
        "\n",
        "# Mostrar os resultados\n",
        "print(\"Altura em centímetros:\", altura_em_centimetros)\n",
        "print(\"Altura em metros:\", altura_em_metros)\n",
        "print(\"Pesos em kg:\", pesos)\n",
        "print(\"IMC:\", imc_arredondado)\n",
        "\n",
        "# lista dados_financeiros\n",
        "dados_financeiros = [[3000, 2500, 1000, 10000], [1000, 2500, 3000, 5000], [6000, 5500, 7000, 16000]]\n",
        "\n",
        "# i) Transformar a lista dados_financeiros em um ndarray\n",
        "dados_financeiros_ndarray = np.array(dados_financeiros)\n",
        "\n",
        "# ii) Exibir o ndarray\n",
        "print(\"Dados Financeiros:\")\n",
        "print(dados_financeiros_ndarray)\n",
        "\n",
        "# iii) Calcular o endividamento total\n",
        "endividamento_total = np.sum(dados_financeiros_ndarray)\n",
        "print(\"Endividamento Total:\", endividamento_total)\n",
        "\n",
        "# iv) Corrigir um valor específico (por exemplo, substituir o valor 2500 por 3000)\n",
        "dados_financeiros_ndarray[0, 1] = 3000\n",
        "print(\"Dados Financeiros (após correção):\")\n",
        "print(dados_financeiros_ndarray)\n"
      ],
      "metadata": {
        "colab": {
          "base_uri": "https://localhost:8080/"
        },
        "id": "gUY0pUHJybaW",
        "outputId": "866ce598-4b0e-4ba9-f108-3937f6d87ed6"
      },
      "execution_count": 9,
      "outputs": [
        {
          "output_type": "stream",
          "name": "stdout",
          "text": [
            "Altura em centímetros: [170 175 180 185]\n",
            "Altura em metros: [1.7  1.75 1.8  1.85]\n",
            "Pesos em kg: [70 75 80 85]\n",
            "IMC: [24.22 24.49 24.69 24.84]\n",
            "Dados Financeiros:\n",
            "[[ 3000  2500  1000 10000]\n",
            " [ 1000  2500  3000  5000]\n",
            " [ 6000  5500  7000 16000]]\n",
            "Endividamento Total: 62500\n",
            "Dados Financeiros (após correção):\n",
            "[[ 3000  3000  1000 10000]\n",
            " [ 1000  2500  3000  5000]\n",
            " [ 6000  5500  7000 16000]]\n"
          ]
        }
      ]
    },
    {
      "cell_type": "markdown",
      "metadata": {
        "id": "RghMgSOX695t"
      },
      "source": [
        "### 4) É muito comum precisarmos identificar valores especiais e darmos tratamento a eles quer seja alterando-os quer seja descartando-os.\n",
        "\n",
        "O trecho de código abaixo gera um ndarray com números pseudo aleatórios. Considere que para efeitos do estudo que virá, devemos desconsiderar valores iguais a zero. Sendo assim:\n",
        "\n",
        "i) crie um objeto ```bool_zero``` que traga uma sequencia de booleanos do mesmo tamanho que o objeto poi, e que vale ```True``` quando o valor de ```poi``` é zero, e ```False``` caso contrário.\n",
        "\n",
        "ii) Conte quantos valores zero existem. Lembre-se de que no final das contas, ```True``` vale 1 para o Python, e ```False``` vale zero, então uma boa dica seria usar a função ```sum()```.\n",
        "\n",
        "iii) Utilize a indexação booleana que você aprendeu para criar uma variável ```poi_nao_zero``` que aponta para os elementos de ```poi``` diferentes de zero. Dica: você vai pode inverter os elementos do objeto que criou em *ii)* ou escrever a comparação adequada."
      ]
    },
    {
      "cell_type": "code",
      "source": [
        "# np.random.seed(1234) garante a reprodutibilidade dos resultados\n",
        "np.random.seed(1234)\n",
        "\n",
        "# i) Criação do objeto bool_zero\n",
        "poi = np.random.poisson(3, 100)\n",
        "bool_zero = poi == 0\n",
        "\n",
        "# ii) Contagem de valores zero\n",
        "quantidade_zeros = np.sum(bool_zero)\n",
        "\n",
        "# iii) Utilização da indexação booleana para criar poi_nao_zero\n",
        "poi_nao_zero = poi[~bool_zero]  # ~ inverte os valores booleanos\n",
        "\n",
        "# Exibição dos resultados\n",
        "print(\"Objeto poi:\", poi)\n",
        "print(\"Objeto bool_zero:\", bool_zero)\n",
        "print(\"Quantidade de zeros:\", quantidade_zeros)\n",
        "print(\"Objeto poi_nao_zero:\", poi_nao_zero)\n"
      ],
      "metadata": {
        "colab": {
          "base_uri": "https://localhost:8080/"
        },
        "id": "7shLYrbzzQlR",
        "outputId": "5a1206d0-2b7d-40a4-ba83-4b01d957f4c3"
      },
      "execution_count": 10,
      "outputs": [
        {
          "output_type": "stream",
          "name": "stdout",
          "text": [
            "Objeto poi: [3 3 6 2 4 5 4 4 2 0 3 3 2 8 2 3 3 3 0 4 4 2 6 6 0 3 4 3 5 2 1 3 2 2 3 2 4\n",
            " 4 5 7 3 5 3 3 2 2 3 6 2 2 4 3 5 2 5 3 0 2 1 1 4 4 4 6 2 4 1 2 5 5 3 4 1 4\n",
            " 1 1 7 1 2 1 3 7 0 4 4 0 6 1 3 4 2 5 4 5 5 3 4 6 8 2]\n",
            "Objeto bool_zero: [False False False False False False False False False  True False False\n",
            " False False False False False False  True False False False False False\n",
            "  True False False False False False False False False False False False\n",
            " False False False False False False False False False False False False\n",
            " False False False False False False False False  True False False False\n",
            " False False False False False False False False False False False False\n",
            " False False False False False False False False False False  True False\n",
            " False  True False False False False False False False False False False\n",
            " False False False False]\n",
            "Quantidade de zeros: 6\n",
            "Objeto poi_nao_zero: [3 3 6 2 4 5 4 4 2 3 3 2 8 2 3 3 3 4 4 2 6 6 3 4 3 5 2 1 3 2 2 3 2 4 4 5 7\n",
            " 3 5 3 3 2 2 3 6 2 2 4 3 5 2 5 3 2 1 1 4 4 4 6 2 4 1 2 5 5 3 4 1 4 1 1 7 1\n",
            " 2 1 3 7 4 4 6 1 3 4 2 5 4 5 5 3 4 6 8 2]\n"
          ]
        }
      ]
    }
  ],
  "metadata": {
    "kernelspec": {
      "display_name": "Python 3",
      "language": "python",
      "name": "python3"
    },
    "language_info": {
      "codemirror_mode": {
        "name": "ipython",
        "version": 3
      },
      "file_extension": ".py",
      "mimetype": "text/x-python",
      "name": "python",
      "nbconvert_exporter": "python",
      "pygments_lexer": "ipython3",
      "version": "3.8.5"
    },
    "colab": {
      "provenance": []
    }
  },
  "nbformat": 4,
  "nbformat_minor": 0
}